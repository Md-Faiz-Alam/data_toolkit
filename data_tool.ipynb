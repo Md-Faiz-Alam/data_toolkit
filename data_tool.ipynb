{
  "nbformat": 4,
  "nbformat_minor": 0,
  "metadata": {
    "colab": {
      "provenance": []
    },
    "kernelspec": {
      "name": "python3",
      "display_name": "Python 3"
    },
    "language_info": {
      "name": "python"
    }
  },
  "cells": [
    {
      "cell_type": "markdown",
      "source": [
        "---\n",
        "# Theoretical Answers of Data Toolkit:\n",
        "---\n",
        "---\n",
        "## 1. What is NumPy, and why is it widely used in Python?\n",
        "NumPy (Numerical Python) is a powerful library for numerical computing in Python. It provides support for large, multi-dimensional arrays and matrices, along with a collection of mathematical functions to operate on these arrays. It is widely used because:\n",
        "\n",
        "It is highly efficient due to optimized C and Fortran implementations.                                                             \n",
        "It allows vectorized operations, making computations faster.                                                         \n",
        "It integrates well with other libraries like Pandas, SciPy, and TensorFlow.\n",
        "\n",
        "---\n",
        "\n",
        "## 2. How does broadcasting work in NumPy?\n",
        "Broadcasting allows NumPy to perform element-wise operations on arrays of different shapes by automatically expanding the smaller array to match the larger array's shape.         \n",
        "Example:\n",
        "\n",
        "    import numpy as np\n",
        "    a = np.array([1, 2, 3])\n",
        "    b = np.array([[1], [2], [3]])\n",
        "    result = a + b  # b is broadcasted to match a’s shape\n",
        "    print(result)\n",
        "              \n",
        "---\n",
        "## 3. What is a Pandas DataFrame?\n",
        "A DataFrame is a two-dimensional, labeled data structure in Pandas that resembles an Excel spreadsheet. It consists of rows and columns and can store heterogeneous data types (e.g., integers, floats, strings).\n",
        "\n",
        "---\n",
        "## 4. Explain the use of the groupby() method in Pandas.\n",
        "The groupby() method is used to group data based on one or more columns and then apply aggregate functions like mean, sum, count, etc,\n",
        "Example:\n",
        "\n",
        "    import pandas as pd\n",
        "    df = pd.DataFrame({'Category': ['A', 'B', 'A', 'B'], 'Values': [10, 20, 30, 40]})\n",
        "    grouped = df.groupby('Category').sum()\n",
        "    print(grouped)\n",
        "\n",
        "---\n",
        "## 5. Why is Seaborn preferred for statistical visualizations?\n",
        "Seaborn is preferred because:\n",
        "\n",
        "It provides built-in statistical functions and plots.             \n",
        "It has better default aesthetics compared to Matplotlib.        \n",
        "It simplifies complex visualizations like correlation heatmaps and violin plots.\n",
        "\n",
        "---\n",
        "## 6. What are the differences between NumPy arrays and Python lists?\n",
        "| Feature      | NumPy Arrays                     | Python Lists                       |\n",
        "|-------------|----------------------------------|------------------------------------|\n",
        "| **Speed**   | Faster (vectorized operations)  | Slower (element-wise processing)  |\n",
        "| **Memory**  | Uses less memory                | Uses more memory                  |\n",
        "| **Operations** | Supports broadcasting       | No broadcasting                   |\n",
        "| **Homogeneity** | Must have same data type  | Can have mixed data types         |\n",
        "\n",
        "---\n",
        "## 7.What is a heatmap, and when should it be used?    \n",
        "A heatmap is a graphical representation of data using colors. It is commonly used to visualize correlations between variables.                                               \n",
        "Example in Seaborn:\n",
        "\n",
        "    import seaborn as sns\n",
        "    import numpy as np\n",
        "    import pandas as pd\n",
        "\n",
        "    data = np.random.rand(5,5)\n",
        "    df = pd.DataFrame(data, columns=list('ABCDE'))\n",
        "    sns.heatmap(df, annot=True)\n",
        "\n",
        "---\n",
        "## 8. What does the term “vectorized operation” mean in NumPy?\n",
        "Vectorized operations allow element-wise operations on arrays without explicit loops, making computations faster.        \n",
        "Example:\n",
        "\n",
        "    a = np.array([1, 2, 3])\n",
        "    b = np.array([4, 5, 6])\n",
        "    print(a + b)  # Vectorized addition\n",
        "\n",
        "---\n",
        "## 9. How does Matplotlib differ from Plotly?\n",
        "\n",
        "| Feature        | Matplotlib               | Plotly                                |\n",
        "|---------------|-------------------------|--------------------------------------|\n",
        "| **Interactivity** | Static plots           | Interactive plots                    |\n",
        "| **Customization** | High                   | Higher                               |\n",
        "| **3D Support**    | Limited                | Strong                               |\n",
        "| **Ease of Use**   | Requires manual settings | Easier for interactive visualizations |\n",
        "\n",
        "---\n",
        "## 10. What is the significance of hierarchical indexing in Pandas?                                            \n",
        "Hierarchical indexing allows multiple index levels in a DataFrame, enabling better data organization and faster querying.\n",
        "\n",
        "---\n",
        "## 11. What is the role of Seaborn’s pairplot() function?       \n",
        "pairplot() creates scatter plots for all numerical variables in a dataset, helping visualize relationships.                  \n",
        "Example:\n",
        "\n",
        "    import seaborn as sns\n",
        "    df = sns.load_dataset(\"iris\")\n",
        "    sns.pairplot(df, hue=\"species\")\n",
        "\n",
        "---\n",
        "## 12. What is the purpose of the describe() function in Pandas?                                              \n",
        "The describe() function provides summary statistics (count, mean, std, min, max, etc.) for numerical columns.\n",
        "\n",
        "---\n",
        "## 13. Why is handling missing data important in Pandas?   \n",
        "Handling missing data prevents errors in analysis and ensures accurate insights.                       \n",
        "Techniques include:\n",
        "\n",
        "Dropping missing values (dropna())           \n",
        "Filling missing values (fillna())\n",
        "\n",
        "---\n",
        "## 14. What are the benefits of using Plotly for data visualization?                                      \n",
        "Interactive and dynamic visualizations                                           \n",
        "Supports multiple chart types (3D, maps, etc.)                      \n",
        "Easy to use with Dash for web applications\n",
        "\n",
        "---\n",
        "## 15. How does NumPy handle multidimensional arrays?     \n",
        "NumPy uses ndarray, which supports multiple dimensions (2D, 3D, etc.). Operations can be performed efficiently across axes.\n",
        "\n",
        "---\n",
        "## 16. What is the role of Bokeh in data visualization?\n",
        "\n",
        "Bokeh is a Python library for interactive and web-based visualizations. It supports zooming, panning, and real-time updates.\n",
        "\n",
        "---\n",
        "## 17. Explain the difference between apply() and map() in Pandas.\n",
        "apply() is used for row/column-wise operations in a DataFrame.\n",
        "map() applies functions to Series (one column).\n",
        "\n",
        "    df['new_col'] = df['Values'].apply(lambda x: x*2)  # apply() for DataFrame  \n",
        "    df['new_col'] = df['Values'].map(lambda x: x*2)  # map() for Series  \n",
        "\n",
        "---\n",
        "## 18. What are some advanced features of NumPy?   \n",
        "\n",
        "Linear algebra (numpy.linalg)    \n",
        "\n",
        "Fourier transforms (numpy.fft)\n",
        "\n",
        "Random number generation (numpy.random)\n",
        "\n",
        "Memory mapping for large datasets\n",
        "\n",
        "---\n",
        "## 19. How does Pandas simplify time series analysis?     \n",
        "\n",
        "Pandas provides built-in time series functions like:\n",
        "\n",
        "to_datetime() for date conversions             \n",
        "Resampling (resample())                        \n",
        "Rolling window statistics (rolling())\n",
        "\n",
        "---\n",
        "## 20. What is the role of a pivot table in Pandas?          \n",
        "A pivot table summarizes data by grouping and aggregating values, similar to Excel pivot tables.              \n",
        "\n",
        "Example:\n",
        "\n",
        "    df.pivot_table(values='Values', index='Category', aggfunc='sum')\n",
        "\n",
        "---\n",
        "##21. Why is NumPy’s array slicing faster than Python’s list slicing?\n",
        "NumPy arrays use contiguous memory blocks and optimized C implementations, making slicing operations much faster than Python lists.\n",
        "\n",
        "---\n",
        "## 22. What are some common use cases for Seaborn?  \n",
        "\n",
        "Correlation heatmaps                           \n",
        "Pairplots and scatter plots                            \n",
        "Categorical plots (bar, violin, box plots)                        \n",
        "Regression plots\n",
        "\n",
        "---\n",
        "---\n",
        "# Practical Answers:\n",
        "---\n",
        "---\n",
        "## 1. Create a 2D NumPy array and calculate the sum of each row"
      ],
      "metadata": {
        "id": "4AzNTsQdlyfH"
      }
    },
    {
      "cell_type": "code",
      "source": [
        "import numpy as np\n",
        "\n",
        "# Creating a 2D NumPy array\n",
        "arr = np.array([[1, 2, 3], [4, 5, 6], [7, 8, 9]])\n",
        "\n",
        "# Sum of each row\n",
        "row_sums = np.sum(arr, axis=1)\n",
        "print(row_sums)"
      ],
      "metadata": {
        "id": "HV4876GH6IAN"
      },
      "execution_count": null,
      "outputs": []
    },
    {
      "cell_type": "markdown",
      "source": [
        "## 2. Write a Pandas script to find the mean of a specific column in a DataFrame"
      ],
      "metadata": {
        "id": "iG1l__VS6NA9"
      }
    },
    {
      "cell_type": "code",
      "source": [
        "import pandas as pd\n",
        "\n",
        "# Creating a DataFrame\n",
        "data = {'Name': ['A', 'B', 'C'], 'Score': [85, 90, 78]}\n",
        "df = pd.DataFrame(data)\n",
        "\n",
        "# Finding the mean of the \"Score\" column\n",
        "mean_score = df['Score'].mean()\n",
        "print(mean_score)"
      ],
      "metadata": {
        "id": "erwMYx6q6RdF"
      },
      "execution_count": null,
      "outputs": []
    },
    {
      "cell_type": "markdown",
      "source": [
        "## 3. Create a scatter plot using Matplotlib"
      ],
      "metadata": {
        "id": "U_gkaVtf6X7U"
      }
    },
    {
      "cell_type": "code",
      "source": [
        "import matplotlib.pyplot as plt\n",
        "import numpy as np\n",
        "\n",
        "# Sample data\n",
        "x = np.random.rand(50)\n",
        "y = np.random.rand(50)\n",
        "\n",
        "# Creating a scatter plot\n",
        "plt.scatter(x, y, color='blue')\n",
        "plt.xlabel('X-axis')\n",
        "plt.ylabel('Y-axis')\n",
        "plt.title('Scatter Plot')\n",
        "plt.show()"
      ],
      "metadata": {
        "id": "soVBJ57L6bEU"
      },
      "execution_count": null,
      "outputs": []
    },
    {
      "cell_type": "markdown",
      "source": [
        "## 4. Calculate the correlation matrix using Seaborn and visualize it with a heatmap\n",
        "\n"
      ],
      "metadata": {
        "id": "RheZ4AZt6ebE"
      }
    },
    {
      "cell_type": "code",
      "source": [
        "import seaborn as sns\n",
        "import pandas as pd\n",
        "import numpy as np\n",
        "\n",
        "# Creating a random DataFrame\n",
        "data = np.random.rand(5, 5)\n",
        "df = pd.DataFrame(data, columns=list('ABCDE'))\n",
        "\n",
        "# Calculating correlation matrix\n",
        "corr_matrix = df.corr()\n",
        "\n",
        "# Visualizing with a heatmap\n",
        "sns.heatmap(corr_matrix, annot=True, cmap='coolwarm')"
      ],
      "metadata": {
        "id": "haQ50Dcp6oP8"
      },
      "execution_count": null,
      "outputs": []
    },
    {
      "cell_type": "markdown",
      "source": [
        "## 5. Generate a bar plot using Plotly"
      ],
      "metadata": {
        "id": "IOZ5W9yz6qk-"
      }
    },
    {
      "cell_type": "code",
      "source": [
        "import plotly.express as px\n",
        "import pandas as pd\n",
        "\n",
        "# Sample data\n",
        "df = pd.DataFrame({'Category': ['A', 'B', 'C'], 'Values': [10, 20, 30]})\n",
        "\n",
        "# Creating a bar plot\n",
        "fig = px.bar(df, x='Category', y='Values', title=\"Bar Plot\")\n",
        "fig.show()"
      ],
      "metadata": {
        "id": "iULcz7ak6uFU"
      },
      "execution_count": null,
      "outputs": []
    },
    {
      "cell_type": "markdown",
      "source": [
        "## 6. Create a DataFrame and add a new column based on an existing column"
      ],
      "metadata": {
        "id": "tdDAoRLM6xas"
      }
    },
    {
      "cell_type": "code",
      "source": [
        "import pandas as pd\n",
        "\n",
        "# Creating a DataFrame\n",
        "df = pd.DataFrame({'Name': ['F', 'A', 'I', 'Z'], 'Score': [85, 90, 78, 82]})\n",
        "\n",
        "# Adding a new column based on an existing column\n",
        "df['Grade'] = df['Score'].apply(lambda x: 'Pass' if x >= 80 else 'Fail')\n",
        "print(df)"
      ],
      "metadata": {
        "id": "M8IivXpz60LD"
      },
      "execution_count": null,
      "outputs": []
    },
    {
      "cell_type": "markdown",
      "source": [
        "## 7. Perform element-wise multiplication of two NumPy arrays"
      ],
      "metadata": {
        "id": "0H6KhPA97OJj"
      }
    },
    {
      "cell_type": "code",
      "source": [
        "import numpy as np\n",
        "\n",
        "# Creating two arrays\n",
        "a = np.array([1, 2, 3])\n",
        "b = np.array([4, 5, 6])\n",
        "\n",
        "# Element-wise multiplication\n",
        "result = a * b\n",
        "print(result)"
      ],
      "metadata": {
        "id": "v0upfNdb7Rnj"
      },
      "execution_count": null,
      "outputs": []
    },
    {
      "cell_type": "markdown",
      "source": [
        "## 8. Create a line plot with multiple lines using Matplotlib"
      ],
      "metadata": {
        "id": "2aom4fdZ7UeD"
      }
    },
    {
      "cell_type": "code",
      "source": [
        "import matplotlib.pyplot as plt\n",
        "import numpy as np\n",
        "\n",
        "# Creating data\n",
        "x = np.linspace(0, 10, 100)\n",
        "y1 = np.sin(x)\n",
        "y2 = np.cos(x)\n",
        "\n",
        "# Plotting multiple lines\n",
        "plt.plot(x, y1, label='sin(x)', color='blue')\n",
        "plt.plot(x, y2, label='cos(x)', color='red')\n",
        "plt.xlabel('X-axis')\n",
        "plt.ylabel('Y-axis')\n",
        "plt.title('Line Plot with Multiple Lines')\n",
        "plt.legend()\n",
        "plt.show()"
      ],
      "metadata": {
        "id": "g9b6QddZ7YP6"
      },
      "execution_count": null,
      "outputs": []
    },
    {
      "cell_type": "markdown",
      "source": [
        "## 9. Generate a Pandas DataFrame and filter rows where a column value is greater than a threshold"
      ],
      "metadata": {
        "id": "GjirbdtB7bYS"
      }
    },
    {
      "cell_type": "code",
      "source": [
        "import pandas as pd\n",
        "\n",
        "# Creating a DataFrame\n",
        "df = pd.DataFrame({'Name': ['A', 'B', 'C', 'D'], 'Score': [85, 90, 75, 60]})\n",
        "\n",
        "# Filtering rows where Score > 80\n",
        "filtered_df = df[df['Score'] > 80]\n",
        "print(filtered_df)"
      ],
      "metadata": {
        "id": "eXTLLzXs7gZa"
      },
      "execution_count": null,
      "outputs": []
    },
    {
      "cell_type": "markdown",
      "source": [
        "## 10. Create a histogram using Seaborn to visualize a distribution"
      ],
      "metadata": {
        "id": "PA-g9tWa7lZi"
      }
    },
    {
      "cell_type": "code",
      "source": [
        "import seaborn as sns\n",
        "import numpy as np\n",
        "import matplotlib.pyplot as plt\n",
        "\n",
        "# Generating random data\n",
        "data = np.random.randn(1000)\n",
        "\n",
        "# Creating a histogram\n",
        "sns.histplot(data, bins=30, kde=True)\n",
        "plt.title(\"Histogram of Data Distribution\")\n",
        "plt.show()"
      ],
      "metadata": {
        "id": "i3qG1r5d7p3y"
      },
      "execution_count": null,
      "outputs": []
    },
    {
      "cell_type": "markdown",
      "source": [
        "## 11. Perform matrix multiplication using NumPy"
      ],
      "metadata": {
        "id": "DKmo7H1a7tX6"
      }
    },
    {
      "cell_type": "code",
      "source": [
        "import numpy as np\n",
        "\n",
        "# Creating two matrices\n",
        "A = np.array([[1, 2], [3, 4]])\n",
        "B = np.array([[5, 6], [7, 8]])\n",
        "\n",
        "# Matrix multiplication\n",
        "result = np.dot(A, B)\n",
        "print(result)"
      ],
      "metadata": {
        "id": "an3adyyL7wv6"
      },
      "execution_count": null,
      "outputs": []
    },
    {
      "cell_type": "markdown",
      "source": [
        "## 12. Use Pandas to load a CSV file and display its first 5 rows"
      ],
      "metadata": {
        "id": "LKDFP8dO7z-Z"
      }
    },
    {
      "cell_type": "code",
      "source": [
        "import pandas as pd\n",
        "\n",
        "# Load CSV file\n",
        "df = pd.read_csv('data.csv')\n",
        "\n",
        "# Display first 5 rows\n",
        "print(df.head())\n"
      ],
      "metadata": {
        "id": "hSAHjS5r74Mx"
      },
      "execution_count": null,
      "outputs": []
    },
    {
      "cell_type": "markdown",
      "source": [
        "## 13. Create a 3D scatter plot using Plotly"
      ],
      "metadata": {
        "id": "_tMpXLBn76Wx"
      }
    },
    {
      "cell_type": "code",
      "source": [
        "import plotly.express as px\n",
        "import pandas as pd\n",
        "import numpy as np\n",
        "\n",
        "# Creating random data\n",
        "df = pd.DataFrame({\n",
        "    'x': np.random.rand(50),\n",
        "    'y': np.random.rand(50),\n",
        "    'z': np.random.rand(50)\n",
        "})\n",
        "\n",
        "# Creating a 3D scatter plot\n",
        "fig = px.scatter_3d(df, x='x', y='y', z='z', title=\"3D Scatter Plot\")\n",
        "fig.show()"
      ],
      "metadata": {
        "id": "J43MFCyt78qy"
      },
      "execution_count": null,
      "outputs": []
    },
    {
      "cell_type": "markdown",
      "source": [
        "---\n",
        "---\n",
        "#Thank You! 😊\n",
        "---\n",
        "---"
      ],
      "metadata": {
        "id": "ZLDdJsRT7_4p"
      }
    }
  ]
}